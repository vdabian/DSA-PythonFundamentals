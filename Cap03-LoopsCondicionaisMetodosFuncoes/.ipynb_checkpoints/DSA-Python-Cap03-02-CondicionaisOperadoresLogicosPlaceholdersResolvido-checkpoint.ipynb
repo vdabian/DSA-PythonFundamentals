{
 "cells": [
  {
   "cell_type": "markdown",
   "metadata": {},
   "source": [
    "### Operadores Lógicos"
   ]
  },
  {
   "cell_type": "code",
   "execution_count": 1,
   "metadata": {},
   "outputs": [
    {
     "name": "stdout",
     "output_type": "stream",
     "text": [
      "Você pode dirigir!\n"
     ]
    }
   ],
   "source": [
    "idade = 18\n",
    "nome = \"Bob\"\n",
    "if idade > 17:\n",
    "    print(\"Você pode dirigir!\")"
   ]
  },
  {
   "cell_type": "code",
   "execution_count": 2,
   "metadata": {},
   "outputs": [
    {
     "name": "stdout",
     "output_type": "stream",
     "text": [
      "Autorizado!\n"
     ]
    }
   ],
   "source": [
    "idade = 18\n",
    "if idade > 17 and nome == \"Bob\":\n",
    "    print(\"Autorizado!\")"
   ]
  },
  {
   "cell_type": "code",
   "execution_count": 3,
   "metadata": {},
   "outputs": [
    {
     "name": "stdout",
     "output_type": "stream",
     "text": [
      "Digite no nome de uma disciplina: Geografia\n",
      "Digite a nota final (entre 0 e 100): 50\n",
      "Lamento, acho que você precisa estudar mais!\n"
     ]
    }
   ],
   "source": [
    "# Usando mais de uma condição na cláusula if\n",
    "disciplina = input('Digite no nome de uma disciplina: ')\n",
    "nota_final = input('Digite a nota final (entre 0 e 100): ')\n",
    "\n",
    "if disciplina == 'Geografia' and nota_final >= '70':\n",
    "    print('Você foi aprovado!')\n",
    "else:\n",
    "    print('Lamento, acho que você precisa estudar mais!')"
   ]
  },
  {
   "cell_type": "code",
   "execution_count": 6,
   "metadata": {},
   "outputs": [
    {
     "name": "stdout",
     "output_type": "stream",
     "text": [
      "Digite o nome da disciplina: História\n",
      "Digite a note final (entre 0 e 100): 70\n",
      "Digite o semestre (1 a 4): 4\n",
      "Lamento, acho que você precisa estudar mais!\n"
     ]
    }
   ],
   "source": [
    "# Usando mais de uma condição na cláusula if e introduzinho Placeholders\n",
    "\n",
    "disciplina = input('Digite o nome da disciplina: ')\n",
    "nota_final = input('Digite a note final (entre 0 e 100): ')\n",
    "semestre = input('Digite o semestre (1 a 4): ')\n",
    "\n",
    "if disciplina == 'Geografia' and nota_final >= '50' and int(semestre) != 1:\n",
    "    print('Você foi aprovado em %s com média final %r!' %(disciplina, nota_final))\n",
    "else:\n",
    "    print('Lamento, acho que você precisa estudar mais!')"
   ]
  },
  {
   "cell_type": "markdown",
   "metadata": {},
   "source": [
    "==> Fique atento aos espaços entre a margem e cada um dos seus comandos.\n",
    "Falaremos mais sobre identação ao longo do curso.\n",
    "A identação faz parte da sintaxe da linguagem Python."
   ]
  },
  {
   "cell_type": "markdown",
   "metadata": {},
   "source": [
    "The end."
   ]
  }
 ],
 "metadata": {
  "kernelspec": {
   "display_name": "Python 3",
   "language": "python",
   "name": "python3"
  },
  "language_info": {
   "codemirror_mode": {
    "name": "ipython",
    "version": 3
   },
   "file_extension": ".py",
   "mimetype": "text/x-python",
   "name": "python",
   "nbconvert_exporter": "python",
   "pygments_lexer": "ipython3",
   "version": "3.7.6"
  }
 },
 "nbformat": 4,
 "nbformat_minor": 4
}
